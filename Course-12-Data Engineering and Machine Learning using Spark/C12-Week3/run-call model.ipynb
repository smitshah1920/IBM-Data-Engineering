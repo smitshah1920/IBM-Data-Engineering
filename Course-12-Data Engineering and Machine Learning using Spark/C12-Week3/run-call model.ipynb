{
 "cells": [
  {
   "cell_type": "code",
   "execution_count": 1,
   "id": "a5ec0094-6c20-44ed-a983-7989c69fd174",
   "metadata": {
    "tags": []
   },
   "outputs": [
    {
     "name": "stdout",
     "output_type": "stream",
     "text": [
      "Scoring response\n",
      "{'predictions': [{'fields': ['prediction', 'probability(Walk)', 'probability(Getup_bed)', 'probability(Drink_glass)', 'probability(Pour_water)', 'probability(Climb_stairs)', 'probability(Eat_meat)', 'probability(Brush_teeth)', 'probability(Standup_chair)', 'probability(Sitdown_chair)', 'probability(Comb_hair)', 'probability(Descend_stairs)', 'probability(Use_telephone)', 'probability(Liedown_bed)', 'probability(Eat_soup)'], 'values': [[0.0, 0.20642782877219074, 0.10284827017777537, 0.09583486394667211, 0.09330031695621148, 0.08984260386670968, 0.07033320586549437, 0.06662661185561215, 0.056956430126388624, 0.056097681113376416, 0.05265149947855848, 0.03440155707953812, 0.03397637972417501, 0.025568013772883872, 0.015134737264413603]]}]}\n"
     ]
    }
   ],
   "source": [
    "import requests\n",
    "\n",
    "# NOTE: you must manually set API_KEY below using information retrieved from your IBM Cloud account.\n",
    "API_KEY = \"1W04IfgheNcmj5AK99xhwV3Sv-osqaI8RMjmlztHZxYh\"\n",
    "token_response = requests.post('https://iam.cloud.ibm.com/identity/token', data={\"apikey\":\n",
    " API_KEY, \"grant_type\": 'urn:ibm:params:oauth:grant-type:apikey'})\n",
    "mltoken = token_response.json()[\"access_token\"]\n",
    "\n",
    "header = {'Content-Type': 'application/json', 'Authorization': 'Bearer ' + mltoken}\n",
    "\n",
    "# NOTE: manually define and pass the array(s) of values to be scored in the next line\n",
    "# payload_scoring = {\"input_data\": [{\"fields\": [array_of_input_fields], \"values\": [array_of_values_to_be_scored, another_array_of_values_to_be_scored]}]}\n",
    "\n",
    "payload_scoring = {\"input_data\": [{\"fields\": [\"x\", \"y\", \"z\", ], \"values\": [[1,2,3]]}]}\n",
    "\n",
    "response_scoring = requests.post('https://us-south.ml.cloud.ibm.com/ml/v4/deployments/6be836a3-7fb0-47fe-a22a-3b94fd3435df/predictions?version=2021-05-01', json=payload_scoring,\n",
    " headers={'Authorization': 'Bearer ' + mltoken})\n",
    "print(\"Scoring response\")\n",
    "print(response_scoring.json())"
   ]
  }
 ],
 "metadata": {
  "kernelspec": {
   "display_name": "Python",
   "language": "python",
   "name": "conda-env-python-py"
  },
  "language_info": {
   "codemirror_mode": {
    "name": "ipython",
    "version": 3
   },
   "file_extension": ".py",
   "mimetype": "text/x-python",
   "name": "python",
   "nbconvert_exporter": "python",
   "pygments_lexer": "ipython3",
   "version": "3.7.12"
  }
 },
 "nbformat": 4,
 "nbformat_minor": 5
}

{
 "cells": [
  {
   "cell_type": "markdown",
   "metadata": {},
   "source": [
    "<p style=\"text-align:center\">\n",
    "    <a href=\"https://skills.network/?utm_medium=Exinfluencer&utm_source=Exinfluencer&utm_content=000026UJ&utm_term=10006555&utm_id=NA-SkillsNetwork-Channel-SkillsNetworkCoursesIBMDeveloperSkillsNetworkPY0221ENSkillsNetwork899-2023-01-01\">\n",
    "    <img src=\"https://cf-courses-data.s3.us.cloud-object-storage.appdomain.cloud/assets/logos/SN_web_lightmode.png\" width=\"200\" alt=\"Skills Network Logo\"  />\n",
    "    </a>\n",
    "</p>\n"
   ]
  },
  {
   "cell_type": "markdown",
   "metadata": {},
   "source": [
    "# Peer Review Assignment - Data Engineer - Extract API Data\n"
   ]
  },
  {
   "cell_type": "markdown",
   "metadata": {},
   "source": [
    "Estimated time needed: **20** minutes\n"
   ]
  },
  {
   "cell_type": "markdown",
   "metadata": {},
   "source": [
    "## Objectives\n",
    "\n",
    "In this part you will:\n",
    "\n",
    "-   Collect exchange rate data using an API\n",
    "-   Store the data as a CSV\n"
   ]
  },
  {
   "cell_type": "markdown",
   "metadata": {},
   "source": [
    "For this lab, we are going to be using Python and several Python libraries. Some of these libraries might be installed in your lab environment or in SN Labs. Others may need to be installed by you. The cells below will install these libraries when executed.\n"
   ]
  },
  {
   "cell_type": "code",
   "execution_count": null,
   "metadata": {},
   "outputs": [],
   "source": [
    "#!mamba install pandas==1.3.3 -y\n",
    "#!mamba install requests==2.26.0 -y"
   ]
  },
  {
   "cell_type": "markdown",
   "metadata": {},
   "source": [
    "## Imports\n",
    "\n",
    "Import any additional libraries you may need here.\n"
   ]
  },
  {
   "cell_type": "code",
   "execution_count": 1,
   "metadata": {
    "tags": []
   },
   "outputs": [],
   "source": [
    "import requests\n",
    "import pandas as pd"
   ]
  },
  {
   "cell_type": "markdown",
   "metadata": {},
   "source": [
    "## Extract Data Using an API\n"
   ]
  },
  {
   "cell_type": "markdown",
   "metadata": {},
   "source": [
    "Using ExchangeRate-API we will extract currency exchange rate data. Use the below steps to get the access key and to get the data. \n",
    "1. Open the url : https://exchangeratesapi.io/ and click on **Get Free API Key**. \n",
    "2. Subscribe for Free plan and Sign-in with the Google Account. \n",
    "3. Once the account is created you will be redirected to https://apilayer.com website.\n",
    "2. Now, click on the **user icon** and click **Account** as shown below:\n",
    "\n",
    "<img src=\"https://cf-courses-data.s3.us.cloud-object-storage.appdomain.cloud/IBMDeveloperSkillsNetwork-PY0221EN-SkillsNetwork/labs/module%206/Final%20Assignment/Images/account.png\">\n",
    "\n",
    "3. Scroll down and you will get the API Key section. Copy the API key and use in the url in Question 1.\n"
   ]
  },
  {
   "cell_type": "markdown",
   "metadata": {},
   "source": [
    "### Call the API\n",
    "\n",
    " <b> Question 1</b> Using the `requests` library call the endpoint given above and save the text, remember the first few characters of the output: \n"
   ]
  },
  {
   "cell_type": "code",
   "execution_count": 10,
   "metadata": {
    "tags": []
   },
   "outputs": [],
   "source": [
    "# Write your code here\n",
    "# url = \"https://api.apilayer.com/exchangerates_data/latest?base=EUR&apikey=*****Your API Key*****\" #Make sure to change ******* to your API key.\n",
    "url = \"https://api.apilayer.com/exchangerates_data/latest?base=EUR&apikey=c3g8RxOHFA8VSPFSVzuaVwScKnfXBB7B\"\n",
    "#Make sure to change ******* to your API key."
   ]
  },
  {
   "cell_type": "code",
   "execution_count": 11,
   "metadata": {
    "tags": []
   },
   "outputs": [
    {
     "data": {
      "text/plain": [
       "'{\\n    \"success\": true,\\n    \"timestamp\": 1685041503,\\n    \"base\": \"EUR\",\\n    \"date\": \"2023-05-25\",\\n    \"rates\": {\\n        \"AED\": 3.936961,\\n        \"AFN\": 93.808036,\\n        \"ALL\": 110.304489,\\n        \"AMD\": 414.255808,\\n        \"ANG\": 1.931589,\\n        \"AOA\": 584.826201,\\n        \"ARS\": 252.727101,\\n        \"AUD\": 1.648432,\\n        \"AWG\": 1.929778,\\n        \"AZN\": 1.822227,\\n        \"BAM\": 1.954878,\\n        \"BBD\": 2.163939,\\n        \"BDT\": 114.905778,\\n        \"BGN\": 1.953795,\\n        \"BHD\": 0.404207,\\n        \"BIF\": 3023.31944,\\n        \"BMD\": 1.072099,\\n        \"BND\": 1.450289,\\n        \"BOB\": 7.406576,\\n        \"BRL\": 5.398127,\\n        \"BSD\": 1.071774,\\n        \"BTC\": 4.0658207e-05,\\n        \"BTN\": 88.658863,\\n        \"BWP\": 14.622236,\\n        \"BYN\": 2.705173,\\n        \"BYR\": 21013.142204,\\n        \"BZD\": 2.16034,\\n        \"CAD\": 1.462246,\\n        \"CDF\": 2492.630065,\\n        \"CHF\": 0.97189,\\n        \"CLF\": 0.031381,\\n        \"CLP\": 865.891973,\\n        \"CNY\": 7.589285,\\n        \"COP\": 4814.829185,\\n        \"CRC\": 575.428464,\\n        \"CUC\": 1.072099,\\n        \"CUP\": 28.410626,\\n        \"CVE\": 110.848971,\\n        \"CZK\": 23.614585,\\n        \"DJF\": 190.533788,\\n        \"DKK\": 7.450081,\\n        \"DOP\": 58.483126,\\n        \"DZD\": 146.632088,\\n        \"EGP\": 33.135473,\\n        \"ERN\": 16.081486,\\n        \"ETB\": 58.224411,\\n        \"EUR\": 1,\\n        \"FJD\": 2.411955,\\n        \"FKP\": 0.866863,\\n        \"GBP\": 0.87048,\\n        \"GEL\": 2.766221,\\n        \"GGP\": 0.866863,\\n        \"GHS\": 11.793348,\\n        \"GIP\": 0.866863,\\n        \"GMD\": 63.84362,\\n        \"GNF\": 9279.017102,\\n        \"GTQ\": 8.365053,\\n        \"GYD\": 226.680918,\\n        \"HKD\": 8.399629,\\n        \"HNL\": 26.448679,\\n        \"HRK\": 7.445021,\\n        \"HTG\": 151.655607,\\n        \"HUF\": 372.760264,\\n        \"IDR\": 16043.587678,\\n        \"ILS\": 3.998184,\\n        \"IMP\": 0.866863,\\n        \"INR\": 88.686235,\\n        \"IQD\": 1404.449811,\\n        \"IRR\": 45349.791766,\\n        \"ISK\": 150.104635,\\n        \"JEP\": 0.866863,\\n        \"JMD\": 165.232029,\\n        \"JOD\": 0.760651,\\n        \"JPY\": 150.09284,\\n        \"KES\": 148.2179,\\n        \"KGS\": 93.904872,\\n        \"KHR\": 4406.326822,\\n        \"KMF\": 490.967797,\\n        \"KPW\": 964.822311,\\n        \"KRW\": 1425.773928,\\n        \"KWD\": 0.329745,\\n        \"KYD\": 0.893187,\\n        \"KZT\": 478.064408,\\n        \"LAK\": 18909.153605,\\n        \"LBP\": 16194.057065,\\n        \"LKR\": 324.101015,\\n        \"LRD\": 179.897792,\\n        \"LSL\": 20.63731,\\n        \"LTL\": 3.16563,\\n        \"LVL\": 0.648502,\\n        \"LYD\": 5.162148,\\n        \"MAD\": 10.964892,\\n        \"MDL\": 19.07782,\\n        \"MGA\": 4727.956744,\\n        \"MKD\": 61.589788,\\n        \"MMK\": 2250.758894,\\n        \"MNT\": 3741.34122,\\n        \"MOP\": 8.646439,\\n        \"MRO\": 382.739191,\\n        \"MUR\": 48.780176,\\n        \"MVR\": 16.467649,\\n        \"MWK\": 1097.291452,\\n        \"MXN\": 19.143412,\\n        \"MYR\": 4.958995,\\n        \"MZN\": 67.809875,\\n        \"NAD\": 20.637604,\\n        \"NGN\": 494.772353,\\n        \"NIO\": 39.134926,\\n        \"NOK\": 11.850496,\\n        \"NPR\": 141.854061,\\n        \"NZD\": 1.771638,\\n        \"OMR\": 0.412805,\\n        \"PAB\": 1.071774,\\n        \"PEN\": 3.960872,\\n        \"PGK\": 3.773834,\\n        \"PHP\": 60.121202,\\n        \"PKR\": 306.620307,\\n        \"PLN\": 4.503729,\\n        \"PYG\": 7758.338953,\\n        \"QAR\": 3.903571,\\n        \"RON\": 4.950742,\\n        \"RSD\": 117.233701,\\n        \"RUB\": 85.789312,\\n        \"RWF\": 1214.152222,\\n        \"SAR\": 4.020521,\\n        \"SBD\": 8.927611,\\n        \"SCR\": 14.148755,\\n        \"SDG\": 643.791878,\\n        \"SEK\": 11.618215,\\n        \"SGD\": 1.452603,\\n        \"SHP\": 1.304477,\\n        \"SLE\": 24.191244,\\n        \"SLL\": 21173.956758,\\n        \"SOS\": 610.543387,\\n        \"SRD\": 39.985125,\\n        \"STD\": 22190.286646,\\n        \"SVC\": 9.3774,\\n        \"SYP\": 2693.591088,\\n        \"SZL\": 20.638195,\\n        \"THB\": 37.223006,\\n        \"TJS\": 11.703677,\\n        \"TMT\": 3.752347,\\n        \"TND\": 3.31359,\\n        \"TOP\": 2.546443,\\n        \"TRY\": 21.372192,\\n        \"TTD\": 7.288561,\\n        \"TWD\": 33.050139,\\n        \"TZS\": 2535.514553,\\n        \"UAH\": 39.58529,\\n        \"UGX\": 3998.0388,\\n        \"USD\": 1.072099,\\n        \"UYU\": 41.42084,\\n        \"UZS\": 12264.813938,\\n        \"VEF\": 2783916.95897,\\n        \"VES\": 27.878921,\\n        \"VND\": 25167.526185,\\n        \"VUV\": 128.101225,\\n        \"WST\": 2.911393,\\n        \"XAF\": 655.647609,\\n        \"XAG\": 0.047105,\\n        \"XAU\": 0.000552,\\n        \"XCD\": 2.897402,\\n        \"XDR\": 0.803506,\\n        \"XOF\": 652.369154,\\n        \"XPF\": 119.404986,\\n        \"YER\": 268.400316,\\n        \"ZAR\": 21.206281,\\n        \"ZMK\": 9650.181075,\\n        \"ZMW\": 20.742211,\\n        \"ZWL\": 345.21547\\n    }\\n}\\n'"
      ]
     },
     "execution_count": 11,
     "metadata": {},
     "output_type": "execute_result"
    }
   ],
   "source": [
    "response = requests.get(url).text\n",
    "response"
   ]
  },
  {
   "cell_type": "markdown",
   "metadata": {},
   "source": [
    "### Save as DataFrame\n",
    "\n",
    " <b> Question 2</b>  Using the data gathered turn it into a `pandas` dataframe. The dataframe should have the Currency as the index and `Rate` as their columns. Make sure to drop unnecessary columns.\n"
   ]
  },
  {
   "cell_type": "code",
   "execution_count": 14,
   "metadata": {
    "tags": []
   },
   "outputs": [
    {
     "data": {
      "text/html": [
       "<div>\n",
       "<style scoped>\n",
       "    .dataframe tbody tr th:only-of-type {\n",
       "        vertical-align: middle;\n",
       "    }\n",
       "\n",
       "    .dataframe tbody tr th {\n",
       "        vertical-align: top;\n",
       "    }\n",
       "\n",
       "    .dataframe thead th {\n",
       "        text-align: right;\n",
       "    }\n",
       "</style>\n",
       "<table border=\"1\" class=\"dataframe\">\n",
       "  <thead>\n",
       "    <tr style=\"text-align: right;\">\n",
       "      <th></th>\n",
       "      <th>success</th>\n",
       "      <th>timestamp</th>\n",
       "      <th>base</th>\n",
       "      <th>date</th>\n",
       "      <th>rates</th>\n",
       "    </tr>\n",
       "  </thead>\n",
       "  <tbody>\n",
       "    <tr>\n",
       "      <th>AED</th>\n",
       "      <td>True</td>\n",
       "      <td>2023-05-25 19:07:04</td>\n",
       "      <td>EUR</td>\n",
       "      <td>2023-05-25</td>\n",
       "      <td>3.937118</td>\n",
       "    </tr>\n",
       "    <tr>\n",
       "      <th>AFN</th>\n",
       "      <td>True</td>\n",
       "      <td>2023-05-25 19:07:04</td>\n",
       "      <td>EUR</td>\n",
       "      <td>2023-05-25</td>\n",
       "      <td>93.802588</td>\n",
       "    </tr>\n",
       "    <tr>\n",
       "      <th>ALL</th>\n",
       "      <td>True</td>\n",
       "      <td>2023-05-25 19:07:04</td>\n",
       "      <td>EUR</td>\n",
       "      <td>2023-05-25</td>\n",
       "      <td>110.318606</td>\n",
       "    </tr>\n",
       "    <tr>\n",
       "      <th>AMD</th>\n",
       "      <td>True</td>\n",
       "      <td>2023-05-25 19:07:04</td>\n",
       "      <td>EUR</td>\n",
       "      <td>2023-05-25</td>\n",
       "      <td>414.241644</td>\n",
       "    </tr>\n",
       "    <tr>\n",
       "      <th>ANG</th>\n",
       "      <td>True</td>\n",
       "      <td>2023-05-25 19:07:04</td>\n",
       "      <td>EUR</td>\n",
       "      <td>2023-05-25</td>\n",
       "      <td>1.931505</td>\n",
       "    </tr>\n",
       "    <tr>\n",
       "      <th>...</th>\n",
       "      <td>...</td>\n",
       "      <td>...</td>\n",
       "      <td>...</td>\n",
       "      <td>...</td>\n",
       "      <td>...</td>\n",
       "    </tr>\n",
       "    <tr>\n",
       "      <th>YER</th>\n",
       "      <td>True</td>\n",
       "      <td>2023-05-25 19:07:04</td>\n",
       "      <td>EUR</td>\n",
       "      <td>2023-05-25</td>\n",
       "      <td>268.388337</td>\n",
       "    </tr>\n",
       "    <tr>\n",
       "      <th>ZAR</th>\n",
       "      <td>True</td>\n",
       "      <td>2023-05-25 19:07:04</td>\n",
       "      <td>EUR</td>\n",
       "      <td>2023-05-25</td>\n",
       "      <td>21.206119</td>\n",
       "    </tr>\n",
       "    <tr>\n",
       "      <th>ZMK</th>\n",
       "      <td>True</td>\n",
       "      <td>2023-05-25 19:07:04</td>\n",
       "      <td>EUR</td>\n",
       "      <td>2023-05-25</td>\n",
       "      <td>9649.766159</td>\n",
       "    </tr>\n",
       "    <tr>\n",
       "      <th>ZMW</th>\n",
       "      <td>True</td>\n",
       "      <td>2023-05-25 19:07:04</td>\n",
       "      <td>EUR</td>\n",
       "      <td>2023-05-25</td>\n",
       "      <td>20.741319</td>\n",
       "    </tr>\n",
       "    <tr>\n",
       "      <th>ZWL</th>\n",
       "      <td>True</td>\n",
       "      <td>2023-05-25 19:07:04</td>\n",
       "      <td>EUR</td>\n",
       "      <td>2023-05-25</td>\n",
       "      <td>345.200630</td>\n",
       "    </tr>\n",
       "  </tbody>\n",
       "</table>\n",
       "<p>170 rows × 5 columns</p>\n",
       "</div>"
      ],
      "text/plain": [
       "     success           timestamp base       date        rates\n",
       "AED     True 2023-05-25 19:07:04  EUR 2023-05-25     3.937118\n",
       "AFN     True 2023-05-25 19:07:04  EUR 2023-05-25    93.802588\n",
       "ALL     True 2023-05-25 19:07:04  EUR 2023-05-25   110.318606\n",
       "AMD     True 2023-05-25 19:07:04  EUR 2023-05-25   414.241644\n",
       "ANG     True 2023-05-25 19:07:04  EUR 2023-05-25     1.931505\n",
       "..       ...                 ...  ...        ...          ...\n",
       "YER     True 2023-05-25 19:07:04  EUR 2023-05-25   268.388337\n",
       "ZAR     True 2023-05-25 19:07:04  EUR 2023-05-25    21.206119\n",
       "ZMK     True 2023-05-25 19:07:04  EUR 2023-05-25  9649.766159\n",
       "ZMW     True 2023-05-25 19:07:04  EUR 2023-05-25    20.741319\n",
       "ZWL     True 2023-05-25 19:07:04  EUR 2023-05-25   345.200630\n",
       "\n",
       "[170 rows x 5 columns]"
      ]
     },
     "execution_count": 14,
     "metadata": {},
     "output_type": "execute_result"
    }
   ],
   "source": [
    "# Turn the data into a dataframe\n",
    "df = pd.read_json(url)\n",
    "df"
   ]
  },
  {
   "cell_type": "code",
   "execution_count": 15,
   "metadata": {
    "tags": []
   },
   "outputs": [
    {
     "data": {
      "text/html": [
       "<div>\n",
       "<style scoped>\n",
       "    .dataframe tbody tr th:only-of-type {\n",
       "        vertical-align: middle;\n",
       "    }\n",
       "\n",
       "    .dataframe tbody tr th {\n",
       "        vertical-align: top;\n",
       "    }\n",
       "\n",
       "    .dataframe thead th {\n",
       "        text-align: right;\n",
       "    }\n",
       "</style>\n",
       "<table border=\"1\" class=\"dataframe\">\n",
       "  <thead>\n",
       "    <tr style=\"text-align: right;\">\n",
       "      <th></th>\n",
       "      <th>rates</th>\n",
       "    </tr>\n",
       "  </thead>\n",
       "  <tbody>\n",
       "    <tr>\n",
       "      <th>AED</th>\n",
       "      <td>3.937118</td>\n",
       "    </tr>\n",
       "    <tr>\n",
       "      <th>AFN</th>\n",
       "      <td>93.802588</td>\n",
       "    </tr>\n",
       "    <tr>\n",
       "      <th>ALL</th>\n",
       "      <td>110.318606</td>\n",
       "    </tr>\n",
       "    <tr>\n",
       "      <th>AMD</th>\n",
       "      <td>414.241644</td>\n",
       "    </tr>\n",
       "    <tr>\n",
       "      <th>ANG</th>\n",
       "      <td>1.931505</td>\n",
       "    </tr>\n",
       "    <tr>\n",
       "      <th>...</th>\n",
       "      <td>...</td>\n",
       "    </tr>\n",
       "    <tr>\n",
       "      <th>YER</th>\n",
       "      <td>268.388337</td>\n",
       "    </tr>\n",
       "    <tr>\n",
       "      <th>ZAR</th>\n",
       "      <td>21.206119</td>\n",
       "    </tr>\n",
       "    <tr>\n",
       "      <th>ZMK</th>\n",
       "      <td>9649.766159</td>\n",
       "    </tr>\n",
       "    <tr>\n",
       "      <th>ZMW</th>\n",
       "      <td>20.741319</td>\n",
       "    </tr>\n",
       "    <tr>\n",
       "      <th>ZWL</th>\n",
       "      <td>345.200630</td>\n",
       "    </tr>\n",
       "  </tbody>\n",
       "</table>\n",
       "<p>170 rows × 1 columns</p>\n",
       "</div>"
      ],
      "text/plain": [
       "           rates\n",
       "AED     3.937118\n",
       "AFN    93.802588\n",
       "ALL   110.318606\n",
       "AMD   414.241644\n",
       "ANG     1.931505\n",
       "..           ...\n",
       "YER   268.388337\n",
       "ZAR    21.206119\n",
       "ZMK  9649.766159\n",
       "ZMW    20.741319\n",
       "ZWL   345.200630\n",
       "\n",
       "[170 rows x 1 columns]"
      ]
     },
     "execution_count": 15,
     "metadata": {},
     "output_type": "execute_result"
    }
   ],
   "source": [
    "# Drop unnescessary columns\n",
    "df.drop(['success','timestamp','base','date'], inplace=True, axis=1)\n",
    "df"
   ]
  },
  {
   "cell_type": "markdown",
   "metadata": {},
   "source": [
    "### Load the Data\n",
    "\n",
    "Using the dataframe save it as a CSV names `exchange_rates_1.csv`.\n"
   ]
  },
  {
   "cell_type": "code",
   "execution_count": null,
   "metadata": {},
   "outputs": [],
   "source": [
    "# Save the Dataframe\n"
   ]
  },
  {
   "cell_type": "markdown",
   "metadata": {},
   "source": [
    "Your CSV should be in this format with more currencies\n",
    "\n",
    "| | Rates |\n",
    "| ------- | ------- |\n",
    "|  AED| 4.398618    |\n",
    "|  AFN| 92.917693   |  \n",
    "|  ALL| 123.099093  |\n",
    "|  AMD| 621.935674  |\n",
    "|  ANG| 2.149648    | \n"
   ]
  },
  {
   "cell_type": "markdown",
   "metadata": {},
   "source": [
    "## Authors\n"
   ]
  },
  {
   "cell_type": "markdown",
   "metadata": {},
   "source": [
    "Ramesh Sannareddy, Joseph Santarcangelo and Azim Hirjani\n"
   ]
  },
  {
   "cell_type": "markdown",
   "metadata": {},
   "source": [
    "### Other Contributors\n"
   ]
  },
  {
   "cell_type": "markdown",
   "metadata": {},
   "source": [
    "Rav Ahuja\n"
   ]
  },
  {
   "cell_type": "markdown",
   "metadata": {},
   "source": [
    "## Change Log\n"
   ]
  },
  {
   "cell_type": "markdown",
   "metadata": {},
   "source": [
    "| Date (YYYY-MM-DD) | Version | Changed By        | Change Description                 |\n",
    "| ----------------- | ------- | ----------------- | ---------------------------------- |\n",
    "| 2022-05-06        | 0.3     | Malika            | Updated instructions to get the API and the url|\n",
    "| 2021-04-15        | 0.2     | Malika            | Updated the lab from USD to EUR    |\n",
    "| 2020-11-25        | 0.1     | Ramesh Sannareddy | Created initial version of the lab |\n"
   ]
  },
  {
   "cell_type": "markdown",
   "metadata": {},
   "source": [
    " Copyright © 2020 IBM Corporation. This notebook and its source code are released under the terms of the [MIT License](https://cognitiveclass.ai/mit-license?utm_medium=Exinfluencer&utm_source=Exinfluencer&utm_content=000026UJ&utm_term=10006555&utm_id=NA-SkillsNetwork-Channel-SkillsNetworkCoursesIBMDeveloperSkillsNetworkPY0221ENSkillsNetwork899-2023-01-01&cm_mmc=Email_Newsletter-_-Developer_Ed%2BTech-_-WW_WW-_-SkillsNetwork-Courses-IBM-DA0321EN-SkillsNetwork-21426264&cm_mmca1=000026UJ&cm_mmca2=10006555&cm_mmca3=M12345678&cvosrc=email.Newsletter.M12345678&cvo_campaign=000026UJ).\n"
   ]
  }
 ],
 "metadata": {
  "kernelspec": {
   "display_name": "Python",
   "language": "python",
   "name": "conda-env-python-py"
  },
  "language_info": {
   "codemirror_mode": {
    "name": "ipython",
    "version": 3
   },
   "file_extension": ".py",
   "mimetype": "text/x-python",
   "name": "python",
   "nbconvert_exporter": "python",
   "pygments_lexer": "ipython3",
   "version": "3.7.12"
  }
 },
 "nbformat": 4,
 "nbformat_minor": 4
}
